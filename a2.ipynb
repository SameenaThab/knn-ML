{
 "cells": [
  {
   "cell_type": "markdown",
   "metadata": {},
   "source": [
    "## Loading Data"
   ]
  },
  {
   "cell_type": "code",
   "execution_count": 352,
   "metadata": {
    "collapsed": true
   },
   "outputs": [],
   "source": [
    "import matplotlib.pyplot as plt\n",
    "from mnist import MNIST\n",
    "import pickle\n",
    "import numpy as np\n",
    "from scipy.stats import mode\n",
    "import pandas as pd"
   ]
  },
  {
   "cell_type": "code",
   "execution_count": 280,
   "metadata": {
    "collapsed": true,
    "scrolled": false
   },
   "outputs": [],
   "source": [
    "from mnist import MNIST\n",
    "mndata = MNIST('./samples')\n",
    "images, labels = mndata.load_training()\n",
    "testim,testl=mndata.load_testing()"
   ]
  },
  {
   "cell_type": "code",
   "execution_count": null,
   "metadata": {
    "collapsed": true
   },
   "outputs": [],
   "source": [
    "import numpy as np\n",
    "train=np.array(images)\n",
    "train_labels=np.array(labels)\n",
    "print(train.shape)\n",
    "print(train_labels.shape)\n",
    "test=np.array(testim)\n",
    "test_labels=np.array(testl)\n",
    "print(test.shape)\n",
    "print(test_labels.shape)\n"
   ]
  },
  {
   "cell_type": "markdown",
   "metadata": {},
   "source": [
    "# Question 1\n",
    "# One Nearest Neighbour"
   ]
  },
  {
   "cell_type": "markdown",
   "metadata": {},
   "source": [
    "### One Nearest Neighbour function"
   ]
  },
  {
   "cell_type": "code",
   "execution_count": 282,
   "metadata": {
    "collapsed": true
   },
   "outputs": [],
   "source": [
    "def one_neighbour(train,test,labels):\n",
    "    diff=np.subtract(train,test)\n",
    "    dist=np.einsum('ij,ij->i',diff,diff)\n",
    "    return labels[np.argsort(dist)[0]]    "
   ]
  },
  {
   "cell_type": "markdown",
   "metadata": {},
   "source": [
    "### Error Function"
   ]
  },
  {
   "cell_type": "code",
   "execution_count": 283,
   "metadata": {
    "collapsed": true
   },
   "outputs": [],
   "source": [
    "def cal_error(labels,pred):\n",
    "    diff=pred-labels\n",
    "    errorindexes=np.where(diff!=0)[0]\n",
    "    error=errorindexes.shape[0]\n",
    "    return error"
   ]
  },
  {
   "cell_type": "code",
   "execution_count": 284,
   "metadata": {
    "collapsed": true
   },
   "outputs": [],
   "source": [
    "on_labels=np.empty([10000,])\n",
    "for i in range(test.shape[0]):\n",
    "    on_labels[i]=one_neighbour(train,test[i],train_labels)\n",
    "\n",
    "import pickle\n",
    "with open('./on_res.p', 'wb') as y:\n",
    "    pickle.dump(on_labels, y)    "
   ]
  },
  {
   "cell_type": "code",
   "execution_count": 304,
   "metadata": {},
   "outputs": [
    {
     "name": "stdout",
     "output_type": "stream",
     "text": [
      "(10000,)\n"
     ]
    }
   ],
   "source": [
    "with open('./on_res.p', 'rb') as y:\n",
    "    on_res2 = pickle.load(y)\n",
    "    \n",
    "    print(on_res2.shape)"
   ]
  },
  {
   "cell_type": "code",
   "execution_count": 305,
   "metadata": {},
   "outputs": [
    {
     "name": "stdout",
     "output_type": "stream",
     "text": [
      "Error for one nearest neighbour: 309\n"
     ]
    }
   ],
   "source": [
    "error=cal_error(test_nolabels,on_res2)\n",
    "print('Error for one nearest neighbour: '+ str(error))"
   ]
  },
  {
   "cell_type": "markdown",
   "metadata": {},
   "source": [
    "### Testing error for one nearest neighbor = 309"
   ]
  },
  {
   "cell_type": "markdown",
   "metadata": {},
   "source": [
    "### Confusion Matrix for the one nearest neighbour"
   ]
  },
  {
   "cell_type": "code",
   "execution_count": 350,
   "metadata": {
    "collapsed": true
   },
   "outputs": [],
   "source": [
    "def confmat(pred,true):\n",
    "    predicts=pd.Series(pred,name='predicted')\n",
    "    trueval=pd.Series(true,name='actual')\n",
    "    print(pd.crosstab(predicts,trueval))"
   ]
  },
  {
   "cell_type": "code",
   "execution_count": 353,
   "metadata": {},
   "outputs": [
    {
     "name": "stdout",
     "output_type": "stream",
     "text": [
      "actual       0     1    2    3    4    5    6    7    8    9\n",
      "predicted                                                   \n",
      "0.0        973     0    7    0    0    1    4    0    6    2\n",
      "1.0          1  1129    6    1    7    1    2   14    1    5\n",
      "2.0          1     3  992    2    0    0    0    6    3    1\n",
      "3.0          0     0    5  970    0   12    0    2   14    6\n",
      "4.0          0     1    1    1  944    2    3    4    5   10\n",
      "5.0          1     1    0   19    0  860    5    0   13    5\n",
      "6.0          3     1    2    0    3    5  944    0    3    1\n",
      "7.0          1     0   16    7    5    1    0  992    4   11\n",
      "8.0          0     0    3    7    1    6    0    0  920    1\n",
      "9.0          0     0    0    3   22    4    0   10    5  967\n"
     ]
    }
   ],
   "source": [
    "confmat(on_res2,test_labels)"
   ]
  },
  {
   "cell_type": "markdown",
   "metadata": {},
   "source": [
    "# Question 2"
   ]
  },
  {
   "cell_type": "markdown",
   "metadata": {},
   "source": [
    "### KNN Function"
   ]
  },
  {
   "cell_type": "code",
   "execution_count": 306,
   "metadata": {
    "collapsed": true
   },
   "outputs": [],
   "source": [
    "from scipy.stats import mode\n",
    "def knn(train,test,labels,k):\n",
    "    pred_label=np.empty([1,k])\n",
    "    diff=train-test\n",
    "    dist=np.einsum('ij,ij->i',diff,diff)\n",
    "    for i in range(k):\n",
    "        near=labels[np.argsort(dist)[:i+1]]\n",
    "        #print(near)\n",
    "        pred_label[0,i]=mode(near)[0][0]\n",
    "    return pred_label"
   ]
  },
  {
   "cell_type": "markdown",
   "metadata": {},
   "source": [
    "### Leave one out  Approach for knn"
   ]
  },
  {
   "cell_type": "code",
   "execution_count": 307,
   "metadata": {
    "collapsed": true
   },
   "outputs": [],
   "source": [
    "res=np.empty([60000,20])\n",
    "for i in range(60000):\n",
    "    index=np.setdiff1d(np.arange(60000),i)\n",
    "    res[i]=knn(train[index,:],train[i],train_labels[index],20)\n",
    "\n",
    "\n",
    "   "
   ]
  },
  {
   "cell_type": "code",
   "execution_count": 312,
   "metadata": {
    "collapsed": true
   },
   "outputs": [],
   "source": [
    "import pickle\n",
    "with open('./knn_res.p', 'wb') as f:\n",
    "    pickle.dump(res, f) "
   ]
  },
  {
   "cell_type": "code",
   "execution_count": 313,
   "metadata": {},
   "outputs": [
    {
     "name": "stdout",
     "output_type": "stream",
     "text": [
      "(60000, 20)\n"
     ]
    }
   ],
   "source": [
    "with open('./knn_res.p', 'rb') as f:\n",
    "    knnres_pickled = pickle.load(f)\n",
    "    \n",
    "    print(knnres_pickled.shape)"
   ]
  },
  {
   "cell_type": "markdown",
   "metadata": {},
   "source": [
    "### Calculating Error for Leave One Out"
   ]
  },
  {
   "cell_type": "code",
   "execution_count": 405,
   "metadata": {},
   "outputs": [
    {
     "name": "stdout",
     "output_type": "stream",
     "text": [
      "[[ 1577.  1926.  1562.  1643.  1635.  1694.  1698.  1751.  1787.  1847.\n",
      "   1898.  1942.  1946.  2008.  2020.  2046.  2084.  2109.  2158.  2173.]]\n"
     ]
    }
   ],
   "source": [
    "error_loo=np.empty([1,20])\n",
    "for i in range(20):\n",
    "    error_loo[0,i]=cal_error(train_labels,knnres_pickled[:,i])\n",
    "\n",
    "print(error_loo)\n",
    "\n"
   ]
  },
  {
   "cell_type": "markdown",
   "metadata": {},
   "source": [
    "### Graph for leave one out KNN"
   ]
  },
  {
   "cell_type": "code",
   "execution_count": 406,
   "metadata": {},
   "outputs": [
    {
     "data": {
      "image/png": "[encoded data removed]",
      "text/plain": [
       "<matplotlib.figure.Figure at 0x1c213385e48>"
      ]
     },
     "metadata": {},
     "output_type": "display_data"
    }
   ],
   "source": [
    "import matplotlib.pyplot as plt\n",
    "plt.plot(np.arange(1,21),error_loo.reshape(20,1))\n",
    "plt.title(\"K versus error\")\n",
    "plt.ylabel('error rates')\n",
    "plt.xlabel('K')\n",
    "plt.grid(True)\n",
    "plt.show()"
   ]
  },
  {
   "cell_type": "markdown",
   "metadata": {},
   "source": [
    "### We get minimum error for k=3"
   ]
  },
  {
   "cell_type": "markdown",
   "metadata": {},
   "source": [
    "### Applying KNN for test images"
   ]
  },
  {
   "cell_type": "code",
   "execution_count": 315,
   "metadata": {
    "collapsed": true
   },
   "outputs": [],
   "source": [
    "test_pred=np.empty([10000,20])\n",
    "for i in range(test.shape[0]):\n",
    "    test_pred[i]=knn(train,test[i],train_labels,20)"
   ]
  },
  {
   "cell_type": "code",
   "execution_count": 316,
   "metadata": {
    "collapsed": true
   },
   "outputs": [],
   "source": [
    "with open('./knn_test_res.p', 'wb') as f:\n",
    "    pickle.dump(test_pred, f)"
   ]
  },
  {
   "cell_type": "code",
   "execution_count": 409,
   "metadata": {},
   "outputs": [
    {
     "name": "stdout",
     "output_type": "stream",
     "text": [
      "[[ 309.  373.  295.  318.  312.  323.  306.  330.  341.  335.  332.  339.\n",
      "   347.  360.  367.  368.  370.  367.  368.  375.]]\n"
     ]
    }
   ],
   "source": [
    "#print(test_pred.shape)\n",
    "error=np.empty([1,20])\n",
    "for i in range(20):\n",
    "    error[0,i]=cal_error(test_labels,test_pred[:,i])\n",
    "print(error)"
   ]
  },
  {
   "cell_type": "markdown",
   "metadata": {},
   "source": [
    "### Errors rates for test images"
   ]
  },
  {
   "cell_type": "code",
   "execution_count": 386,
   "metadata": {},
   "outputs": [
    {
     "name": "stdout",
     "output_type": "stream",
     "text": [
      "actual       0     1    2    3    4    5    6    7    8    9\n",
      "predicted                                                   \n",
      "0.0        974     0   10    0    1    6    5    0    8    4\n",
      "1.0          1  1133    9    2    6    1    3   21    2    5\n",
      "2.0          1     2  996    4    0    0    0    5    4    2\n",
      "3.0          0     0    2  976    0   11    0    0   16    8\n",
      "4.0          0     0    0    1  950    2    3    1    8    9\n",
      "5.0          1     0    0   13    0  859    3    0   11    2\n",
      "6.0          2     0    0    1    4    5  944    0    3    1\n",
      "7.0          1     0   13    7    2    1    0  991    4    8\n",
      "8.0          0     0    2    3    0    3    0    0  914    2\n",
      "9.0          0     0    0    3   19    4    0   10    4  968\n"
     ]
    }
   ],
   "source": [
    "confmat(test_pred[:,2],test_labels)"
   ]
  },
  {
   "cell_type": "markdown",
   "metadata": {},
   "source": [
    "### Confusion matrix for test images (3 nearest neighbour)"
   ]
  },
  {
   "cell_type": "markdown",
   "metadata": {},
   "source": [
    "# Question 3\n",
    "# Downsampling"
   ]
  },
  {
   "cell_type": "code",
   "execution_count": 318,
   "metadata": {
    "collapsed": true
   },
   "outputs": [],
   "source": [
    "\n",
    "def downsample_singleimage(data,n):\n",
    "    a=range(0,784,n)\n",
    "    d=data[a]\n",
    "    return d.reshape(28,int(d.shape[0]/28))\n",
    "\n",
    "def downsample_wholedata(data,n):\n",
    "    a=range(0,784,n)\n",
    "    d=data[:,a]\n",
    "    return d\n",
    "    "
   ]
  },
  {
   "cell_type": "code",
   "execution_count": 320,
   "metadata": {
    "collapsed": true
   },
   "outputs": [],
   "source": [
    "n_values_ds=[2,4,7,14]\n",
    "ds_data_2=downsample_wholedata(train,2)\n",
    "ds_data_4=downsample_wholedata(train,4)\n",
    "ds_data_7=downsample_wholedata(train,7)\n",
    "ds_data_14=downsample_wholedata(train,14)"
   ]
  },
  {
   "cell_type": "markdown",
   "metadata": {},
   "source": [
    "__Here Leave One Out KNN is performed by passing each train image as test data and set difference train data and each image to the KNN function__ "
   ]
  },
  {
   "cell_type": "code",
   "execution_count": null,
   "metadata": {
    "collapsed": true
   },
   "outputs": [],
   "source": [
    "ds_pred_2=np.empty([60000,20])\n",
    "for i in range(60000):\n",
    "    index=np.setdiff1d(np.arange(60000),i)\n",
    "    ds_pred_2[i]=knn(ds_data_2[index,:],ds_data_2[i],train_labels[index],20)\n",
    "\n",
    "with open('./ds_pred_2.p', 'wb') as f:\n",
    "    pickle.dump(ds_pred_2, f) \n",
    "     "
   ]
  },
  {
   "cell_type": "code",
   "execution_count": 410,
   "metadata": {},
   "outputs": [
    {
     "name": "stdout",
     "output_type": "stream",
     "text": [
      "[[ 1790.  2191.  1798.  1866.  1811.  1888.  1912.  1959.  2015.  2051.\n",
      "   2066.  2136.  2156.  2216.  2239.  2297.  2333.  2349.  2377.  2407.]]\n"
     ]
    }
   ],
   "source": [
    "error_ds2=np.empty([1,20])\n",
    "for i in range(20):\n",
    "    error_ds2[0,i]=cal_error(train_labels,ds_pred_2[:,i])\n",
    "\n",
    "print(error_ds2)\n",
    "\n",
    "with open('./error_ds2.p', 'wb') as f:\n",
    "    pickle.dump(error_ds2, f)"
   ]
  },
  {
   "cell_type": "markdown",
   "metadata": {},
   "source": [
    "### Error rates for Leave one out for downsampling n=2"
   ]
  },
  {
   "cell_type": "code",
   "execution_count": 412,
   "metadata": {},
   "outputs": [
    {
     "data": {
      "image/png": "[encoded data removed]",
      "text/plain": [
       "<matplotlib.figure.Figure at 0x1c21bf83d68>"
      ]
     },
     "metadata": {},
     "output_type": "display_data"
    }
   ],
   "source": [
    "import matplotlib.pyplot as plt\n",
    "plt.plot(np.arange(1,21),error_ds2.reshape(20,1))\n",
    "plt.title(\"K versus error\")\n",
    "plt.ylabel('errors')\n",
    "plt.xlabel('K')\n",
    "plt.grid(True)\n",
    "plt.show()"
   ]
  },
  {
   "cell_type": "markdown",
   "metadata": {},
   "source": [
    "#### Best k =1 for n=2"
   ]
  },
  {
   "cell_type": "code",
   "execution_count": null,
   "metadata": {
    "collapsed": true
   },
   "outputs": [],
   "source": [
    "ds_pred_4=np.empty([60000,20])\n",
    "for i in range(60000):\n",
    "    index=np.setdiff1d(np.arange(60000),i)\n",
    "    ds_pred_4[i]=knn(ds_data_4[index,:],ds_data_4[i],train_labels[index],20)\n",
    "\n",
    "with open('./ds_pred_4.p', 'wb') as f:\n",
    "    pickle.dump(ds_pred_4, f) \n"
   ]
  },
  {
   "cell_type": "code",
   "execution_count": 413,
   "metadata": {},
   "outputs": [
    {
     "name": "stdout",
     "output_type": "stream",
     "text": [
      "[[ 4209.  4863.  4037.  4156.  4012.  4113.  4136.  4225.  4254.  4338.\n",
      "   4356.  4448.  4456.  4557.  4591.  4629.  4698.  4728.  4747.  4811.]]\n"
     ]
    }
   ],
   "source": [
    "\n",
    "error_ds4=np.empty([1,20])\n",
    "for i in range(20):\n",
    "    error_ds4[0,i]=cal_error(train_labels,ds_pred_4[:,i])\n",
    "    \n",
    "print(error_ds4)\n",
    "\n",
    "\n",
    "with open('./error_ds4.p', 'wb') as f:\n",
    "    pickle.dump(error_ds4, f) "
   ]
  },
  {
   "cell_type": "markdown",
   "metadata": {},
   "source": [
    "### Error for Leave one out for downsampling n=4"
   ]
  },
  {
   "cell_type": "code",
   "execution_count": 414,
   "metadata": {},
   "outputs": [
    {
     "data": {
      "image/png": "[encoded data removed]",
      "text/plain": [
       "<matplotlib.figure.Figure at 0x1c21bf69588>"
      ]
     },
     "metadata": {},
     "output_type": "display_data"
    }
   ],
   "source": [
    "import matplotlib.pyplot as plt\n",
    "plt.plot(np.arange(1,21),error_ds4.reshape(20,1))\n",
    "plt.title(\"K versus error rate\")\n",
    "plt.ylabel('errors')\n",
    "plt.xlabel('K')\n",
    "plt.grid(True)\n",
    "plt.show()"
   ]
  },
  {
   "cell_type": "markdown",
   "metadata": {},
   "source": [
    "#### Best k = 5 for n=4"
   ]
  },
  {
   "cell_type": "code",
   "execution_count": null,
   "metadata": {
    "collapsed": true
   },
   "outputs": [],
   "source": [
    "ds_pred_7=np.empty([60000,20])\n",
    "for i in range(60000):\n",
    "    index=np.setdiff1d(np.arange(60000),i)\n",
    "    ds_pred_7[i]=knn(ds_data_7[index,:],ds_data_7[i],train_labels[index],20)\n",
    "\n",
    "with open('./ds_pred_7.p', 'wb') as f:\n",
    "    pickle.dump(ds_pred_7, f)  "
   ]
  },
  {
   "cell_type": "code",
   "execution_count": 416,
   "metadata": {},
   "outputs": [
    {
     "name": "stdout",
     "output_type": "stream",
     "text": [
      "[[ 10365.  10951.   9449.   9285.   9062.   9114.   9046.   9088.   9056.\n",
      "    9111.   9127.   9182.   9211.   9257.   9307.   9316.   9341.   9376.\n",
      "    9448.   9473.]]\n"
     ]
    }
   ],
   "source": [
    "with open('./ds_pred_7.p', 'rb') as f:\n",
    "    ds_pred_7_pickled = pickle.load(f)\n",
    "    \n",
    "error_ds7=np.empty([1,20])\n",
    "for i in range(20):\n",
    "    error_ds7[0,i]=cal_error(train_labels,ds_pred_7_pickled[:,i])\n",
    "print(error_ds7)"
   ]
  },
  {
   "cell_type": "markdown",
   "metadata": {},
   "source": [
    "### Error  for Leave one out for downsampling n=7"
   ]
  },
  {
   "cell_type": "code",
   "execution_count": 417,
   "metadata": {},
   "outputs": [
    {
     "data": {
      "image/png": "[encoded data removed]",
      "text/plain": [
       "<matplotlib.figure.Figure at 0x1c224bda198>"
      ]
     },
     "metadata": {},
     "output_type": "display_data"
    }
   ],
   "source": [
    "import matplotlib.pyplot as plt\n",
    "plt.plot(np.arange(1,21),error_ds7.reshape(20,1))\n",
    "plt.title(\"K versus error\")\n",
    "plt.ylabel('errors')\n",
    "plt.xlabel('K')\n",
    "plt.grid(True)\n",
    "plt.show()"
   ]
  },
  {
   "cell_type": "markdown",
   "metadata": {},
   "source": [
    "#### Best k=7 for n=7"
   ]
  },
  {
   "cell_type": "code",
   "execution_count": null,
   "metadata": {
    "collapsed": true
   },
   "outputs": [],
   "source": [
    "ds_pred_14=np.empty([60000,20])\n",
    "for i in range(60000):\n",
    "    index=np.setdiff1d(np.arange(60000),i)\n",
    "    ds_pred_14[i]=knn(ds_data_14[index,:],ds_data_14[i],train_labels[index],20)\n",
    "\n",
    "with open('./ds_pred_14.p', 'wb') as f:\n",
    "    pickle.dump(ds_pred_14, f) \n",
    "    \n",
    "error_ds14=np.empty([1,20])\n",
    "for i in range(20):\n",
    "    error[0,i]=cal_error(train_labels,ds_pred_14[:,i])\n",
    "print(error_ds14)\n",
    "\n",
    "with open('./error_ds14.p', 'wb') as f:\n",
    "    pickle.dump(error_ds14, f) "
   ]
  },
  {
   "cell_type": "code",
   "execution_count": 358,
   "metadata": {},
   "outputs": [
    {
     "name": "stdout",
     "output_type": "stream",
     "text": [
      "[[ 19810.  20492.  18022.  17423.  16909.  16751.  16491.  16454.  16378.\n",
      "   16323.  16306.  16253.  16245.  16206.  16242.  16232.  16248.  16228.\n",
      "   16267.  16290.]]\n"
     ]
    }
   ],
   "source": [
    "with open('./ds_pred_14.p', 'rb') as f:\n",
    "    ds_pred_14_pickled = pickle.load(f)\n",
    "    \n",
    "error_ds14=np.empty([1,20])\n",
    "for i in range(20):\n",
    "    error_ds14[0,i]=cal_error(train_labels,ds_pred_14_pickled[:,i])\n",
    "print(error_ds14)"
   ]
  },
  {
   "cell_type": "markdown",
   "metadata": {},
   "source": [
    "### Errors for Leave one out for downsampling n=14"
   ]
  },
  {
   "cell_type": "code",
   "execution_count": 380,
   "metadata": {},
   "outputs": [
    {
     "data": {
      "image/png": "[encoded data removed]",
      "text/plain": [
       "<matplotlib.figure.Figure at 0x1c212a9ee10>"
      ]
     },
     "metadata": {},
     "output_type": "display_data"
    }
   ],
   "source": [
    "import matplotlib.pyplot as plt\n",
    "plt.plot(np.arange(1,21),error_ds14.reshape(20,1))\n",
    "plt.title(\"K versus error rate\")\n",
    "plt.ylabel('errors')\n",
    "plt.xlabel('K')\n",
    "plt.grid(True)\n",
    "plt.show()"
   ]
  },
  {
   "cell_type": "markdown",
   "metadata": {},
   "source": [
    "#### Best k = 14 or n=14"
   ]
  },
  {
   "cell_type": "code",
   "execution_count": 361,
   "metadata": {
    "collapsed": true
   },
   "outputs": [],
   "source": [
    "n_values_ds=np.array([2,4,7,14])\n",
    "err_ds=np.array([error_ds2[0,2],error_ds4[0,4],error_ds7[0,4],error_ds14[0,16]])"
   ]
  },
  {
   "cell_type": "code",
   "execution_count": 381,
   "metadata": {},
   "outputs": [
    {
     "data": {
      "image/png": "[encoded data removed]",
      "text/plain": [
       "<matplotlib.figure.Figure at 0x1c2134a6160>"
      ]
     },
     "metadata": {},
     "output_type": "display_data"
    }
   ],
   "source": [
    "import matplotlib.pyplot as plt\n",
    "plt.plot(n_values_ds,err_ds)\n",
    "plt.title(\"n versus error rate graph\")\n",
    "plt.ylabel('errors')\n",
    "plt.xlabel('n values')\n",
    "plt.grid(True)\n",
    "plt.show()\n"
   ]
  },
  {
   "cell_type": "markdown",
   "metadata": {},
   "source": [
    "### n value versus Least error rate graph"
   ]
  },
  {
   "cell_type": "markdown",
   "metadata": {},
   "source": [
    "* __The best K value increases with the n value.__\n",
    "* __But the error rate keeps increasing with the n value.__\n",
    "* __The query time decreases as n value increases.__\n",
    "* __Classification performance is best in terms of error rate with complete data but query time is huge__"
   ]
  },
  {
   "cell_type": "markdown",
   "metadata": {},
   "source": [
    "# Question 4\n",
    "# Downsample_smart"
   ]
  },
  {
   "cell_type": "code",
   "execution_count": 325,
   "metadata": {
    "collapsed": true
   },
   "outputs": [],
   "source": [
    "def smart_downsample_singleimage(data,n):\n",
    "    temp=data\n",
    "    features=data.shape[0]\n",
    "    add=n*n\n",
    "    col=int(features/add)\n",
    "    #print(type(col))\n",
    "    import math\n",
    "    m=int(math.sqrt(col))\n",
    "    #print(type(m))\n",
    "    z=np.empty(col)\n",
    "    j=0\n",
    "    for i in range(0,784,add):\n",
    "        y=np.sum(temp[np.arange(i,i+add)])\n",
    "        z[j]=y\n",
    "        j+=1\n",
    "    return z.reshape(m,m)\n",
    "\n",
    "\n",
    "def smart_downsample_wholedata(data,n):\n",
    "    temp=data\n",
    "    features=data.shape[1]\n",
    "    add=n*n\n",
    "    col=int(features/add)\n",
    "    import math\n",
    "    m=int(math.sqrt(col))\n",
    "    #print(type(m))\n",
    "    z=np.empty([data.shape[0],col])\n",
    "    j=0\n",
    "    for i in range(0,784,add):\n",
    "        y=np.sum(temp[:,np.arange(i,i+add)],axis=1)\n",
    "        z[:,j]=y\n",
    "        j+=1\n",
    "    return z"
   ]
  },
  {
   "cell_type": "code",
   "execution_count": null,
   "metadata": {
    "collapsed": true
   },
   "outputs": [],
   "source": [
    "n_values_ds=[2,4,7,14]\n",
    "dss_data_2=smart_downsample_wholedata(train,2)\n",
    "dss_data_4=smart_downsample_wholedata(train,4)\n",
    "dss_data_7=smart_downsample_wholedata(train,7)\n",
    "dss_data_14=smart_downsample_wholedata(train,14)"
   ]
  },
  {
   "cell_type": "code",
   "execution_count": 328,
   "metadata": {},
   "outputs": [
    {
     "name": "stdout",
     "output_type": "stream",
     "text": [
      "[[ 1942.  2159.  1948.  1957.  2038.  2062.  2131.  2154.  2193.  2224.\n",
      "   2267.  2332.  2374.  2408.  2472.  2534.  2603.  2640.  2666.  2691.]]\n"
     ]
    }
   ],
   "source": [
    "dss_pred_2=np.empty([60000,20])\n",
    "for i in range(60000):\n",
    "    index=np.setdiff1d(np.arange(60000),i)\n",
    "    dss_pred_2[i]=knn(dss_data_2[index,:],dss_data_2[i],train_labels[index],20)\n",
    "\n",
    "with open('./dss_pred_2.p', 'wb') as f:\n",
    "    pickle.dump(dss_pred_2, f)     \n",
    "\n",
    "error_dss2=np.empty([1,20])\n",
    "for i in range(20):\n",
    "    error_dss2[0,i]=cal_error(train_labels,dss_pred_2[:,i])\n",
    "print(error_dss2)\n",
    "\n",
    "\n",
    "with open('./error_dss2.p', 'wb') as f:\n",
    "    pickle.dump(error_dss2, f) \n",
    "\n"
   ]
  },
  {
   "cell_type": "markdown",
   "metadata": {},
   "source": [
    "### Error  for Leave one out for smart down sampling n=2"
   ]
  },
  {
   "cell_type": "code",
   "execution_count": 418,
   "metadata": {},
   "outputs": [
    {
     "data": {
      "image/png": "[encoded data removed]",
      "text/plain": [
       "<matplotlib.figure.Figure at 0x1c224c1bc88>"
      ]
     },
     "metadata": {},
     "output_type": "display_data"
    }
   ],
   "source": [
    "import matplotlib.pyplot as plt\n",
    "plt.plot(np.arange(1,21),error_dss2.reshape(20,1))\n",
    "plt.title(\"K versus error\")\n",
    "plt.ylabel('errors')\n",
    "plt.xlabel('K')\n",
    "plt.grid(True)\n",
    "plt.show()"
   ]
  },
  {
   "cell_type": "markdown",
   "metadata": {},
   "source": [
    "#### Best k=1 for n=2"
   ]
  },
  {
   "cell_type": "code",
   "execution_count": null,
   "metadata": {
    "collapsed": true
   },
   "outputs": [],
   "source": [
    "dss_pred_4=np.empty([60000,20])\n",
    "for i in range(60000):\n",
    "    index=np.setdiff1d(np.arange(60000),i)\n",
    "    dss_pred_4[i]=knn(dss_data_4[index,:],dss_data_4[i],train_labels[index],20)\n"
   ]
  },
  {
   "cell_type": "code",
   "execution_count": 371,
   "metadata": {},
   "outputs": [
    {
     "name": "stdout",
     "output_type": "stream",
     "text": [
      "[[ 3528.  3940.  3405.  3506.  3460.  3605.  3606.  3704.  3772.  3845.\n",
      "   3886.  3971.  4031.  4085.  4170.  4233.  4295.  4317.  4382.  4420.]]\n"
     ]
    }
   ],
   "source": [
    "with open('./dss_pred_4.p', 'wb') as f:\n",
    "    pickle.dump(dss_pred_4, f)     \n",
    "    \n",
    "error_dss4=np.empty([1,20])\n",
    "for i in range(20):\n",
    "    error_dss4[0,i]=cal_error(train_labels,dss_pred_4[:,i])\n",
    "print(error_dss4)\n",
    "\n",
    "with open('./error_dss4.p', 'wb') as f:\n",
    "    pickle.dump(error_dss4, f)"
   ]
  },
  {
   "cell_type": "markdown",
   "metadata": {},
   "source": [
    "### Errors for Leave one out for smart down sampling n=4"
   ]
  },
  {
   "cell_type": "code",
   "execution_count": 419,
   "metadata": {},
   "outputs": [
    {
     "data": {
      "image/png": "[encoded data removed]",
      "text/plain": [
       "<matplotlib.figure.Figure at 0x1c224c62eb8>"
      ]
     },
     "metadata": {},
     "output_type": "display_data"
    }
   ],
   "source": [
    "import matplotlib.pyplot as plt\n",
    "plt.plot(np.arange(1,21),error_dss4.reshape(20,1))\n",
    "plt.title(\"K versus error\")\n",
    "plt.ylabel('errors')\n",
    "plt.xlabel('K')\n",
    "plt.grid(True)\n",
    "plt.show()"
   ]
  },
  {
   "cell_type": "markdown",
   "metadata": {},
   "source": [
    "#### Best k=3 for n=4"
   ]
  },
  {
   "cell_type": "code",
   "execution_count": 331,
   "metadata": {},
   "outputs": [
    {
     "name": "stdout",
     "output_type": "stream",
     "text": [
      "[[ 9114.  9843.  8409.  8480.  8216.  8334.  8175.  8304.  8208.  8376.\n",
      "   8350.  8473.  8511.  8616.  8573.  8674.  8675.  8759.  8731.  8786.]]\n"
     ]
    }
   ],
   "source": [
    "dss_pred_7=np.empty([60000,20])\n",
    "for i in range(60000):\n",
    "    index=np.setdiff1d(np.arange(60000),i)\n",
    "    dss_pred_7[i]=knn(dss_data_7[index,:],dss_data_7[i],train_labels[index],20)\n",
    "\n",
    "with open('./dss_pred_7.p', 'wb') as f:\n",
    "    pickle.dump(dss_pred_7, f)     \n",
    "    \n",
    "error_dss7=np.empty([1,20])\n",
    "for i in range(20):\n",
    "    error_dss7[0,i]=cal_error(train_labels,dss_pred_7[:,i])\n",
    "print(error_dss7)\n",
    "\n",
    "with open('./error_dss7.p', 'wb') as f:\n",
    "    pickle.dump(error_dss7, f) "
   ]
  },
  {
   "cell_type": "markdown",
   "metadata": {},
   "source": [
    "### Error  for Leave one out for smart down sampling n=7"
   ]
  },
  {
   "cell_type": "code",
   "execution_count": 420,
   "metadata": {},
   "outputs": [
    {
     "data": {
      "image/png": "[encoded data removed]",
      "text/plain": [
       "<matplotlib.figure.Figure at 0x1c224c7a550>"
      ]
     },
     "metadata": {},
     "output_type": "display_data"
    }
   ],
   "source": [
    "import matplotlib.pyplot as plt\n",
    "plt.plot(np.arange(1,21),error_dss7.reshape(20,1))\n",
    "plt.title(\"K versus error\")\n",
    "plt.ylabel('errors')\n",
    "plt.xlabel('K')\n",
    "plt.grid(True)\n",
    "plt.show()"
   ]
  },
  {
   "cell_type": "markdown",
   "metadata": {},
   "source": [
    "#### Best k=7 for n=7"
   ]
  },
  {
   "cell_type": "code",
   "execution_count": 333,
   "metadata": {},
   "outputs": [
    {
     "name": "stdout",
     "output_type": "stream",
     "text": [
      "[[ 27300.  27433.  25148.  23951.  23380.  23117.  22764.  22535.  22336.\n",
      "   22336.  22139.  22129.  22040.  21995.  21917.  21940.  21907.  21830.\n",
      "   21843.  21834.]]\n"
     ]
    }
   ],
   "source": [
    "dss_pred_14=np.empty([60000,20])\n",
    "for i in range(60000):\n",
    "    index=np.setdiff1d(np.arange(60000),i)\n",
    "    dss_pred_14[i]=knn(dss_data_14[index,:],dss_data_14[i],train_labels[index],20)\n",
    "    \n",
    "with open('./dss_pred_14.p', 'wb') as f:\n",
    "    pickle.dump(dss_pred_14, f)\n",
    "    \n",
    "error_dss14=np.empty([1,20])\n",
    "for i in range(20):\n",
    "    error_dss14[0,i]=cal_error(train_labels,dss_pred_14[:,i])\n",
    "print(error_dss14)\n",
    "\n",
    "with open('./error_dss14.p', 'wb') as f:\n",
    "    pickle.dump(error_dss14, f) "
   ]
  },
  {
   "cell_type": "markdown",
   "metadata": {},
   "source": [
    "### Error for Leave one out for smart down sampling n=14"
   ]
  },
  {
   "cell_type": "code",
   "execution_count": 421,
   "metadata": {},
   "outputs": [
    {
     "data": {
      "image/png": "[encoded data removed]",
      "text/plain": [
       "<matplotlib.figure.Figure at 0x1c212ed2128>"
      ]
     },
     "metadata": {},
     "output_type": "display_data"
    }
   ],
   "source": [
    "import matplotlib.pyplot as plt\n",
    "plt.plot(np.arange(1,21),error_dss14.reshape(20,1))\n",
    "plt.title(\"K versus error\")\n",
    "plt.ylabel('errors')\n",
    "plt.xlabel('K')\n",
    "plt.grid(True)\n",
    "plt.show()"
   ]
  },
  {
   "cell_type": "markdown",
   "metadata": {},
   "source": [
    "#### Best k=20 for n=14"
   ]
  },
  {
   "cell_type": "code",
   "execution_count": 373,
   "metadata": {
    "collapsed": true
   },
   "outputs": [],
   "source": [
    "n_values_dss=np.array([2,4,7,14])\n",
    "err_dss=np.array([error_dss2[0,3],error_dss4[0,2],error_dss7[0,6],error_dss14[0,17]])"
   ]
  },
  {
   "cell_type": "code",
   "execution_count": 422,
   "metadata": {},
   "outputs": [
    {
     "data": {
      "image/png": "[encoded data removed]",
      "text/plain": [
       "<matplotlib.figure.Figure at 0x1c213542978>"
      ]
     },
     "metadata": {},
     "output_type": "display_data"
    }
   ],
   "source": [
    "import matplotlib.pyplot as plt\n",
    "plt.plot(n_values_dss,err_dss)\n",
    "plt.title(\"n versus error graph\")\n",
    "plt.ylabel('errors')\n",
    "plt.grid(True)\n",
    "plt.xlabel('n values')\n",
    "plt.show()"
   ]
  },
  {
   "cell_type": "markdown",
   "metadata": {},
   "source": [
    "### n value versus Least error rate"
   ]
  },
  {
   "cell_type": "markdown",
   "metadata": {},
   "source": [
    "* __The best k value increases with the n value.__\n",
    "* __But the error rate keeps increasing with the n value.__\n",
    "* __The query time decreases as n value increases.__\n",
    "* __It took 3 hours to run Leave One Out KNN classifer for the whole train data, but it took nearly half hour for downsampled data(n=14)__   "
   ]
  },
  {
   "cell_type": "markdown",
   "metadata": {},
   "source": [
    "## Question 5\n",
    "## smart downsampler at n = 28"
   ]
  },
  {
   "cell_type": "code",
   "execution_count": null,
   "metadata": {
    "collapsed": true
   },
   "outputs": [],
   "source": [
    "dss_data_28=smart_downsample_wholedata(train,28)\n",
    "dss_pred_28=np.empty([60000,20])\n",
    "for i in range(60000):\n",
    "    index=np.setdiff1d(np.arange(60000),i)\n",
    "    dss_pred_28[i]=knn(dss_data_28[index,:],dss_data_28[i],train_labels[index],20)"
   ]
  },
  {
   "cell_type": "code",
   "execution_count": 335,
   "metadata": {},
   "outputs": [
    {
     "name": "stdout",
     "output_type": "stream",
     "text": [
      "[[ 50132.  48979.  48642.  48643.  48509.  48351.  48199.  48076.  47984.\n",
      "   47865.  47748.  47766.  47749.  47735.  47647.  47572.  47491.  47455.\n",
      "   47430.  47445.]]\n"
     ]
    }
   ],
   "source": [
    "with open('./dss_pred28.p', 'wb') as f:\n",
    "    pickle.dump(dss_pred_28, f) \n",
    "error_dss28=np.empty([1,20])\n",
    "for i in range(20):\n",
    "    error_dss28[0,i]=cal_error(train_labels,dss_pred_28[:,i])\n",
    "print(error_dss28)\n",
    "import pickle\n",
    "with open('./error_dss28.p', 'wb') as f:\n",
    "    pickle.dump(error_dss28, f)  "
   ]
  },
  {
   "cell_type": "markdown",
   "metadata": {},
   "source": [
    "### Error  for leave one out KNN for downsampled data(n=28)"
   ]
  },
  {
   "cell_type": "markdown",
   "metadata": {},
   "source": [
    "#### pixel values for label=1"
   ]
  },
  {
   "cell_type": "code",
   "execution_count": 336,
   "metadata": {},
   "outputs": [
    {
     "name": "stdout",
     "output_type": "stream",
     "text": [
      "[[ 27106.  32565.  28305.  23182.  32367.]]\n"
     ]
    }
   ],
   "source": [
    "print(dss_data_28[np.where(train_labels==8)][0:5].reshape(1,5))"
   ]
  },
  {
   "cell_type": "markdown",
   "metadata": {},
   "source": [
    "#### pixel values for label=8"
   ]
  },
  {
   "cell_type": "code",
   "execution_count": 337,
   "metadata": {},
   "outputs": [
    {
     "name": "stdout",
     "output_type": "stream",
     "text": [
      "[[ 17135.  17646.  10874.  11622.  16577.]]\n"
     ]
    }
   ],
   "source": [
    "print(dss_data_28[np.where(train_labels==1)][0:5].reshape(1,5))"
   ]
  },
  {
   "cell_type": "markdown",
   "metadata": {},
   "source": [
    "#### Label 8 has darker pixel than label 1"
   ]
  },
  {
   "cell_type": "code",
   "execution_count": 338,
   "metadata": {
    "collapsed": true
   },
   "outputs": [],
   "source": [
    "with open('./error_dss28.p', 'rb') as f:\n",
    "    error_dss28_pickled = pickle.load(f)"
   ]
  },
  {
   "cell_type": "code",
   "execution_count": 423,
   "metadata": {},
   "outputs": [
    {
     "data": {
      "image/png": "[encoded data removed]",
      "text/plain": [
       "<matplotlib.figure.Figure at 0x1c213542a20>"
      ]
     },
     "metadata": {},
     "output_type": "display_data"
    }
   ],
   "source": [
    "import matplotlib.pyplot as plt\n",
    "plt.plot(np.arange(1,21),error_dss28.reshape(20,1))\n",
    "plt.title(\"K versus errors for data smart downsampled with n=28\")\n",
    "plt.ylabel('errors')\n",
    "plt.xlabel('K')\n",
    "plt.grid(True)\n",
    "plt.show()"
   ]
  },
  {
   "cell_type": "markdown",
   "metadata": {},
   "source": [
    "* __As k increases, error rate decreases for smart downsampled data (n=28) __\n",
    "* __Query time for downsampled data is reduced compared to whole data.__\n",
    "* __Query time for whole data was 3 hours and for downsampled data, it was around 20 minutes__\n",
    "* __But the error rate has increased enormously__\n",
    "* __Best Least Error  for whole data is 1562 where as for downsampled data (n=28), it is 47430__\n"
   ]
  },
  {
   "cell_type": "markdown",
   "metadata": {},
   "source": [
    "## Question 6"
   ]
  },
  {
   "cell_type": "markdown",
   "metadata": {},
   "source": [
    "* __From the above downsampling experiments, it is clear that  images of each class lose their exclusivity, which leads to poor classification.__\n",
    "* __In my transformation function I tried to reduce the dimensions of the data without the images losing their basis shape__\n",
    "* __Every Image in MNIST dataset has borders of zeros, which can be removed.__ \n",
    "* __My  transform function trims the image from 784 dimensions to 380 dimensions__"
   ]
  },
  {
   "cell_type": "markdown",
   "metadata": {},
   "source": [
    "### Image before trimming"
   ]
  },
  {
   "cell_type": "code",
   "execution_count": 340,
   "metadata": {},
   "outputs": [
    {
     "data": {
      "image/png": "[encoded data removed]",
      "text/plain": [
       "<matplotlib.figure.Figure at 0x1c212c5e828>"
      ]
     },
     "metadata": {},
     "output_type": "display_data"
    }
   ],
   "source": [
    "plt.imshow(train[0].reshape(28,28))\n",
    "plt.show()"
   ]
  },
  {
   "cell_type": "markdown",
   "metadata": {},
   "source": [
    "### Image after trimming"
   ]
  },
  {
   "cell_type": "code",
   "execution_count": 342,
   "metadata": {},
   "outputs": [
    {
     "data": {
      "image/png": "[encoded data removed]",
      "text/plain": [
       "<matplotlib.figure.Figure at 0x1c2130ad390>"
      ]
     },
     "metadata": {},
     "output_type": "display_data"
    }
   ],
   "source": [
    "temp=train[0]\n",
    "temp=np.delete(temp,np.arange(783,671,-1))\n",
    "temp=np.delete(temp,range(0,140))\n",
    "temp=temp.reshape(19,28)\n",
    "temp=np.delete(temp,range(27,23,-1),1)\n",
    "temp=np.delete(temp,range(0,4),1)\n",
    "plt.imshow(temp.reshape(19,20))\n",
    "plt.show()"
   ]
  },
  {
   "cell_type": "markdown",
   "metadata": {},
   "source": [
    "#### Later after trimming, I changed every non zero dimensions to 1.This has further reduced the query time of the classification."
   ]
  },
  {
   "cell_type": "code",
   "execution_count": 343,
   "metadata": {
    "collapsed": true
   },
   "outputs": [],
   "source": [
    "def transform(data):\n",
    "    temp=data\n",
    "    #print(temp.shape)\n",
    "    temp=np.delete(temp,np.arange(783,671,-1))\n",
    "    temp=np.delete(temp,range(0,140))\n",
    "    #print(temp.shape)\n",
    "    temp[np.where(temp>0)]=1\n",
    "    temp=temp.reshape(19,28)\n",
    "    temp=np.delete(temp,range(27,23,-1),1)\n",
    "    temp=np.delete(temp,range(0,4),1)\n",
    "    temp=temp.reshape(1,380)\n",
    "    return temp"
   ]
  },
  {
   "cell_type": "markdown",
   "metadata": {},
   "source": [
    "#### Transforming train and test images"
   ]
  },
  {
   "cell_type": "code",
   "execution_count": 344,
   "metadata": {
    "collapsed": true
   },
   "outputs": [],
   "source": [
    "out=np.empty([60000,380])\n",
    "for i in range(train.shape[0]):\n",
    "    out[i]=transform(train[i])\n",
    "    \n",
    "testout=np.empty([10000,380])\n",
    "for i in range(test.shape[0]):\n",
    "    testout[i]=transform(test[i])"
   ]
  },
  {
   "cell_type": "markdown",
   "metadata": {},
   "source": [
    "#### Applying Leave One Out knn classification to test images after transformation"
   ]
  },
  {
   "cell_type": "code",
   "execution_count": null,
   "metadata": {
    "collapsed": true
   },
   "outputs": [],
   "source": [
    "testpred_transformed=np.empty([10000,20])\n",
    "\n",
    "for i in range(testout.shape[0]):\n",
    "    testpred_transformed[i]=knn(out,testout[i],train_labels,20)\n",
    "\n",
    "error_t=np.empty([1,20])\n",
    "for i in range(20):\n",
    "    error_t[0,i]=cal_error(test_labels,testpred_transformed[:,i])\n",
    "print(error_t)"
   ]
  },
  {
   "cell_type": "code",
   "execution_count": null,
   "metadata": {
    "collapsed": true
   },
   "outputs": [],
   "source": [
    "with open('./testpred_transformedP.p', 'wb') as y:\n",
    "    pickle.dump(testpred_transformed,y) "
   ]
  },
  {
   "cell_type": "code",
   "execution_count": 348,
   "metadata": {
    "collapsed": true
   },
   "outputs": [],
   "source": [
    "with open('./testpred_transformedP.p', 'rb') as y:\n",
    "    testpred_transformed = pickle.load(y)"
   ]
  },
  {
   "cell_type": "markdown",
   "metadata": {},
   "source": [
    "#### Error rates for test images after applying transformation"
   ]
  },
  {
   "cell_type": "code",
   "execution_count": 349,
   "metadata": {},
   "outputs": [
    {
     "name": "stdout",
     "output_type": "stream",
     "text": [
      "[[ 371.  411.  381.  362.  364.  358.  378.  384.  390.  389.  389.  393.\n",
      "   396.  392.  399.  397.  407.  412.  413.  417.]]\n"
     ]
    }
   ],
   "source": [
    "error_t=np.empty([1,20])\n",
    "for i in range(20):\n",
    "    error_t[0,i]=cal_error(test_labels,testpred_transformed[:,i])\n",
    "print(error_t)"
   ]
  },
  {
   "cell_type": "markdown",
   "metadata": {},
   "source": [
    "* __The best error is 295  for k =3 without transformation.__\n",
    "* __The best error is 358  for k =6 with transformation.__\n",
    "* __Errors have increased after transformation__\n",
    "* __The query time without transformation for test images was approximately half hour.__\n",
    "* __The query time with transformation for test images was approximately 20 minutes.__ \n",
    "* __So the query time has decreased with transformation.__\n"
   ]
  },
  {
   "cell_type": "code",
   "execution_count": null,
   "metadata": {
    "collapsed": true
   },
   "outputs": [],
   "source": []
  }
 ],
 "metadata": {
  "kernelspec": {
   "display_name": "Python 3",
   "language": "python",
   "name": "python3"
  },
  "language_info": {
   "codemirror_mode": {
    "name": "ipython",
    "version": 3
   },
   "file_extension": ".py",
   "mimetype": "text/x-python",
   "name": "python",
   "nbconvert_exporter": "python",
   "pygments_lexer": "ipython3",
   "version": "3.6.3"
  }
 },
 "nbformat": 4,
 "nbformat_minor": 2
}
